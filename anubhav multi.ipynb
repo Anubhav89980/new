{
 "cells": [
  {
   "cell_type": "code",
   "execution_count": 2,
   "id": "b6bd8fee-73c5-4713-8338-e3342cf4af13",
   "metadata": {},
   "outputs": [],
   "source": [
    "#Multithreading in Python:\n",
    "#Multithreading in Python refers to the concurrent execution of multiple threads (smaller units of a process) to perform multiple tasks simultaneously. It allows for parallelism and can be particularly useful in scenarios where different parts of a program can run concurrently, improving overall performance.\n",
    "\n",
    "#The module used to handle threads in Python is the threading module.\n",
    "\n",
    "#Functions:\n",
    "\n",
    "#activeCount: Returns the number of Thread objects currently alive.\n",
    "#currentThread: Returns the current Thread object, corresponding to the caller's thread of control.\n",
    "#enumerate: Returns a list of all Thread objects currently alive."
   ]
  },
  {
   "cell_type": "code",
   "execution_count": 3,
   "id": "51a6555d-0cb3-4bac-a4f7-f12ff7e52cbb",
   "metadata": {},
   "outputs": [],
   "source": [
    "#Threading Module:\n",
    "#The threading module is used for creating and managing threads in Python. It provides a convenient way to create, start, and manage threads, allowing concurrent execution of code.\n",
    "\n",
    "#Functions:\n",
    "\n",
    "#activeCount: Returns the number of Thread objects currently alive.\n",
    "#currentThread: Returns the current Thread object, corresponding to the caller's thread of control.\n",
    "#enumerate: Returns a list of all Thread objects currently alive."
   ]
  },
  {
   "cell_type": "code",
   "execution_count": 4,
   "id": "caa14d05-ff33-4877-9445-0ec3d4f367ee",
   "metadata": {},
   "outputs": [],
   "source": [
    "#Thread Functions:\n",
    "\n",
    "#run: The method representing the code to be run in the thread. You can override this method in your custom thread class to define the thread's behavior.\n",
    "#start: Initiates the thread's activity. It invokes the run method in a separate thread.\n",
    "#join: Waits for the thread to complete its execution.\n",
    "#isAlive: Returns True if the thread is alive (has been started and has not yet terminated), False otherwise."
   ]
  },
  {
   "cell_type": "code",
   "execution_count": 6,
   "id": "011b78ab-2d9b-434f-8ca3-912d61c63693",
   "metadata": {},
   "outputs": [
    {
     "name": "stdout",
     "output_type": "stream",
     "text": [
      "Square of 1: 1\n",
      "Square of 2: 4\n",
      "Square of 3: 9\n",
      "Square of 4: 16\n",
      "Square of 5: 25\n",
      "Cube of 1: 1\n",
      "Cube of 2: 8\n",
      "Cube of 3: 27\n",
      "Cube of 4: 64\n",
      "Cube of 5: 125\n"
     ]
    }
   ],
   "source": [
    "import threading\n",
    "\n",
    "def print_squares():\n",
    "    for i in range(1, 6):\n",
    "        print(f\"Square of {i}: {i*i}\")\n",
    "\n",
    "def print_cubes():\n",
    "    for i in range(1, 6):\n",
    "        print(f\"Cube of {i}: {i*i*i}\")\n",
    "\n",
    "\n",
    "thread1 = threading.Thread(target=print_squares)\n",
    "thread2 = threading.Thread(target=print_cubes)\n",
    "\n",
    "\n",
    "thread1.start()\n",
    "thread2.start()\n",
    "\n",
    "thread2.join()\n"
   ]
  },
  {
   "cell_type": "code",
   "execution_count": 7,
   "id": "79f45cc8-88ae-40c0-88be-9887e8296513",
   "metadata": {},
   "outputs": [],
   "source": [
    "#Advantages and Disadvantages of Multithreading:\n",
    "\n",
    "#Advantages:\n",
    "\n",
    "#Improved performance through parallelism.\n",
    "#Efficient utilization of resources.\n",
    "#Responsiveness in UI applications.\n",
    "#Simplified code organization in some cases.\n",
    "#Disadvantages:\n",
    "\n",
    "#Increased complexity in managing shared resources.\n",
    "#Potential for race conditions and deadlocks.\n",
    "#Global interpreter lock (GIL) in CPython limits the effectiveness of multithreading for CPU-bound tasks."
   ]
  },
  {
   "cell_type": "code",
   "execution_count": null,
   "id": "eeb2a367-a224-4a7a-a351-1b3b148b8067",
   "metadata": {},
   "outputs": [],
   "source": [
    "#Deadlocks and Race Conditions:\n",
    "\n",
    "#Deadlock: A deadlock occurs when two or more threads are blocked forever, each waiting for the other to release a resource.\n",
    "\n",
    "#Race Condition: A race condition occurs when the behavior of a program depends on the relative timing of events, such as the order of execution of threads. It can lead to unpredictable outcomes and bugs in the code.\n",
    "\n",
    "#Both deadlocks and race conditions are potential issues in multithreaded programming and require careful synchronization of threads and resource management to be avoided. Deadlocks can happen when threads hold resources and wait for others, while race conditions occur when multiple threads access shared data concurrently without proper synchronization."
   ]
  }
 ],
 "metadata": {
  "kernelspec": {
   "display_name": "Python 3 (ipykernel)",
   "language": "python",
   "name": "python3"
  },
  "language_info": {
   "codemirror_mode": {
    "name": "ipython",
    "version": 3
   },
   "file_extension": ".py",
   "mimetype": "text/x-python",
   "name": "python",
   "nbconvert_exporter": "python",
   "pygments_lexer": "ipython3",
   "version": "3.10.8"
  }
 },
 "nbformat": 4,
 "nbformat_minor": 5
}
